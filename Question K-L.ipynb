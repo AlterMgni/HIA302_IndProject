{
 "cells": [
  {
   "cell_type": "code",
   "execution_count": 4,
   "id": "fc9aa32d",
   "metadata": {},
   "outputs": [
    {
     "name": "stdout",
     "output_type": "stream",
     "text": [
      "k. Read and evaluate the following code in Figure 1. \n",
      "What method is the code using to reduce the missing value from 1605 to 0? Justify your answer.\n",
      "\n",
      "Based on Figure 1, it can be noted that sklearn (scikit-learn) package, particularly SimpleImputer is used.\n",
      "Within the following code, 'mean' is also specified.\n",
      "Accordingly, the method applied to reduce missing values is mean imputation.\n"
     ]
    }
   ],
   "source": [
    "# k. Read and evaluate the following code in Figure 1. \n",
    "# What method is the code using to reduce the missing value from 1605 to 0? Justify your answer.\n",
    "print('''k. Read and evaluate the following code in Figure 1. \n",
    "What method is the code using to reduce the missing value from 1605 to 0? Justify your answer.\n",
    "\n",
    "Based on Figure 1, it can be noted that sklearn (scikit-learn) package, particularly SimpleImputer is used.\n",
    "Within the following code, 'mean' is also specified.\n",
    "Accordingly, the method applied to reduce missing values is mean imputation.''')"
   ]
  },
  {
   "cell_type": "code",
   "execution_count": 5,
   "id": "e60d9f7b",
   "metadata": {},
   "outputs": [],
   "source": [
    "# Python code for evaluation from Figure 1\n",
    "# Additional packages/modules for missing codes in lines 5 and 6\n",
    "import pandas as pd"
   ]
  },
  {
   "cell_type": "code",
   "execution_count": 6,
   "id": "59f96608",
   "metadata": {},
   "outputs": [
    {
     "name": "stdout",
     "output_type": "stream",
     "text": [
      "Missing: 1605\n",
      "Missing: 0\n"
     ]
    }
   ],
   "source": [
    "# l. Fill out the inline comments marked with hashtags ‘#’ in lines 8, 11, 17, 20, 22 and 26.\n",
    "# Include the missing codes in lines 5 and 6.\n",
    "\n",
    "from numpy import isnan\n",
    "from pandas import read_csv\n",
    "from sklearn.impute import SimpleImputer\n",
    "\n",
    "# load dataset\n",
    "dataframe = read_csv('horse-colic-two.csv', names=['surgery', 'age','hosp_no','rect_temp','pulse', 'resp_rate','ex_temp','pr_pulse','muc_mb','crt','pain','prss','abd_dist','ns_tube','ns_flux','ns_flux_PH','rect_exF','abdomen','pcv','tp','abd_app','abd_tp','outcome','les_surg','les_site','les_type','les_sType','les_code'])\n",
    "# replace the '?' with NaN\n",
    "dataframe = dataframe.replace(to_replace = '?', value = 'NaN')\n",
    "dataframe = dataframe.apply(pd.to_numeric, errors='coerce')\n",
    "# returning only values of dataset as a list in an array\n",
    "data = dataframe.values\n",
    "\n",
    "# isolating/removing column 23 from dataset\n",
    "totalCol = data.shape[1]\n",
    "ix = [i for i in range(totalCol) if i != 23]\n",
    "X = data[:, ix]\n",
    "y = data[:, 23]\n",
    "\n",
    "# calculating total number of missing values in dataset before imputation\n",
    "print('Missing: %d' % sum(isnan(X).flatten()))\n",
    "\n",
    "# apply mean imputation from SimpleImputer\n",
    "imputer = SimpleImputer(strategy='mean')\n",
    "# predict and thus fill in missing values by utilising mean of respective columns\n",
    "imputer.fit(X)\n",
    "Xtrans = imputer.transform(X)\n",
    "\n",
    "# calculating total number of missing values in dataset after imputation\n",
    "print('Missing: %d' % sum(isnan(Xtrans).flatten()))"
   ]
  }
 ],
 "metadata": {
  "kernelspec": {
   "display_name": "Python 3 (ipykernel)",
   "language": "python",
   "name": "python3"
  },
  "language_info": {
   "codemirror_mode": {
    "name": "ipython",
    "version": 3
   },
   "file_extension": ".py",
   "mimetype": "text/x-python",
   "name": "python",
   "nbconvert_exporter": "python",
   "pygments_lexer": "ipython3",
   "version": "3.10.8"
  }
 },
 "nbformat": 4,
 "nbformat_minor": 5
}
